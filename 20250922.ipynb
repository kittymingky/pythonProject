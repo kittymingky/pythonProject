{
 "cells": [
  {
   "cell_type": "code",
   "execution_count": 5,
   "id": "d57ca99c",
   "metadata": {},
   "outputs": [
    {
     "name": "stdout",
     "output_type": "stream",
     "text": [
      "(i = 0, j=0)\n",
      "(i = 0, j=1)\n",
      "(i = 0, j=2)\n",
      "(i = 0, j=3)\n",
      "(i = 0, j=4)\n",
      "(i = 1, j=0)\n",
      "(i = 1, j=1)\n",
      "(i = 1, j=2)\n",
      "(i = 1, j=3)\n",
      "(i = 1, j=4)\n",
      "(i = 2, j=0)\n",
      "(i = 2, j=1)\n",
      "(i = 2, j=2)\n",
      "(i = 2, j=3)\n",
      "(i = 3, j=0)\n",
      "(i = 4, j=0)\n",
      "6\n"
     ]
    }
   ],
   "source": [
    "number = 0\n",
    "break_all = False\n",
    "for i in range(5):\n",
    "    for j in range(5):\n",
    "        print(f\"(i = {i}, j={j})\")\n",
    "        if i == 2 and j == 3:\n",
    "            number = i*j\n",
    "            break_all = True\n",
    "            break\n",
    "        if break_all:\n",
    "            break\n",
    "print(number)"
   ]
  },
  {
   "cell_type": "code",
   "execution_count": 7,
   "id": "e1d73444",
   "metadata": {},
   "outputs": [
    {
     "name": "stdout",
     "output_type": "stream",
     "text": [
      "         *\n",
      "        ***\n",
      "       *****\n",
      "      *******\n",
      "     *********\n",
      "    ***********\n",
      "   *************\n",
      "  ***************\n",
      " *****************\n",
      "*******************\n"
     ]
    }
   ],
   "source": [
    "rows = 10  \n",
    "\n",
    "for i in range(1, rows + 1):\n",
    "    spaces = \" \" * (rows - i)     \n",
    "    stars = \"*\" * (2 * i - 1)     \n",
    "    print(spaces + stars)"
   ]
  },
  {
   "cell_type": "code",
   "execution_count": 9,
   "id": "062c9f0b",
   "metadata": {},
   "outputs": [
    {
     "name": "stdout",
     "output_type": "stream",
     "text": [
      "*\n",
      "**\n",
      "***\n",
      "****\n",
      "*****\n",
      "******\n",
      "*******\n",
      "**"
     ]
    }
   ],
   "source": [
    "### 사용자로 부터 n개의 별의 갯수를 입력받은 뒤\n",
    "# 별을 출력할되 별의 갯수만큼만 출력하다가 별이 다 소진되면 멈추는 코드작성\n",
    "n = 30\n",
    "star = 0\n",
    "break_all = False  #충첩 for문을 탈출 할 용도로 사용하는 친구\n",
    "\n",
    "for i in range(1, 10+1):\n",
    "    for j in range(i):\n",
    "        star += 1\n",
    "        if star > n:\n",
    "            break_all = True\n",
    "            break\n",
    "        print('*', end=\"\")\n",
    "    if break_all:\n",
    "        break\n",
    "    print()"
   ]
  },
  {
   "cell_type": "code",
   "execution_count": 11,
   "id": "d64e52b1",
   "metadata": {},
   "outputs": [
    {
     "name": "stdout",
     "output_type": "stream",
     "text": [
      "         *\n",
      "        ***\n",
      "       *****\n",
      "      *******\n",
      "     *********\n",
      "    ***********\n",
      "   *************\n",
      "  *\n"
     ]
    }
   ],
   "source": [
    "# 1. 별을 찍는 함수 만들기\n",
    "def print_stars(n):\n",
    "    rows = 10        # 피라미드 최대 줄 수 (원하는 값으로 바꿀 수 있음)\n",
    "    count = 0        # 지금까지 출력한 별 갯수\n",
    "\n",
    "    for i in range(1, rows + 1):\n",
    "        spaces = \" \" * (rows - i)        # 왼쪽 공백\n",
    "        stars = \"*\" * (2 * i - 1)        # 이번 줄에서 출력할 별\n",
    "\n",
    "        # 만약 이번 줄을 찍으면 n을 초과한다면\n",
    "        if count + len(stars) > n:\n",
    "            # 남은 별만큼만 출력하고 종료\n",
    "            stars = \"*\" * (n - count)\n",
    "            print(spaces + stars)\n",
    "            break\n",
    "\n",
    "        # 별 출력\n",
    "        print(spaces + stars)\n",
    "\n",
    "        # 지금까지 출력한 별 개수 기록\n",
    "        count += len(stars)\n",
    "\n",
    "\n",
    "# 2. 프로그램 시작 부분\n",
    "# 사용자에게 별 갯수를 입력받음\n",
    "n = int(input(\"출력할 별의 총 갯수를 입력하세요: \"))\n",
    "\n",
    "# 3. 입력받은 값으로 함수 실행\n",
    "print_stars(n)"
   ]
  },
  {
   "cell_type": "code",
   "execution_count": 12,
   "id": "db297031",
   "metadata": {},
   "outputs": [],
   "source": [
    "my_str = \"Hello, Python\""
   ]
  },
  {
   "cell_type": "code",
   "execution_count": 13,
   "id": "ace1adb4",
   "metadata": {},
   "outputs": [
    {
     "data": {
      "text/plain": [
       "'P'"
      ]
     },
     "execution_count": 13,
     "metadata": {},
     "output_type": "execute_result"
    }
   ],
   "source": [
    "my_str[7]"
   ]
  },
  {
   "cell_type": "code",
   "execution_count": 14,
   "id": "d8b0ec65",
   "metadata": {},
   "outputs": [
    {
     "data": {
      "text/plain": [
       "'n'"
      ]
     },
     "execution_count": 14,
     "metadata": {},
     "output_type": "execute_result"
    }
   ],
   "source": [
    "my_str[-1]"
   ]
  },
  {
   "cell_type": "code",
   "execution_count": 15,
   "id": "e98ed682",
   "metadata": {},
   "outputs": [
    {
     "data": {
      "text/plain": [
       "13"
      ]
     },
     "execution_count": 15,
     "metadata": {},
     "output_type": "execute_result"
    }
   ],
   "source": [
    "len(my_str)"
   ]
  },
  {
   "cell_type": "code",
   "execution_count": 16,
   "id": "67339c9c",
   "metadata": {},
   "outputs": [
    {
     "data": {
      "text/plain": [
       "'n'"
      ]
     },
     "execution_count": 16,
     "metadata": {},
     "output_type": "execute_result"
    }
   ],
   "source": [
    "my_str[12]"
   ]
  },
  {
   "cell_type": "code",
   "execution_count": 17,
   "id": "1640bf96",
   "metadata": {},
   "outputs": [
    {
     "data": {
      "text/plain": [
       "'hello, python'"
      ]
     },
     "execution_count": 17,
     "metadata": {},
     "output_type": "execute_result"
    }
   ],
   "source": [
    "# 문자열 데이터의 여러가지 기능들\n",
    "\n",
    "my_str.lower()"
   ]
  },
  {
   "cell_type": "code",
   "execution_count": 18,
   "id": "0c2c6656",
   "metadata": {},
   "outputs": [
    {
     "data": {
      "text/plain": [
       "'HELLO, PYTHON'"
      ]
     },
     "execution_count": 18,
     "metadata": {},
     "output_type": "execute_result"
    }
   ],
   "source": [
    "my_str.upper()"
   ]
  },
  {
   "cell_type": "code",
   "execution_count": 21,
   "id": "f4087704",
   "metadata": {},
   "outputs": [
    {
     "name": "stdout",
     "output_type": "stream",
     "text": [
      "['He', '', 'o, Python']\n"
     ]
    }
   ],
   "source": [
    "words = my_str.split('l')\n",
    "print(words)"
   ]
  },
  {
   "cell_type": "code",
   "execution_count": 23,
   "id": "fa4e4a4f",
   "metadata": {},
   "outputs": [],
   "source": [
    "fruits = [\"apple\", \"banana\", \"grape\", \"orange\", \"melon\"]"
   ]
  },
  {
   "cell_type": "code",
   "execution_count": 24,
   "id": "2ca78e33",
   "metadata": {},
   "outputs": [
    {
     "data": {
      "text/plain": [
       "'banana'"
      ]
     },
     "execution_count": 24,
     "metadata": {},
     "output_type": "execute_result"
    }
   ],
   "source": [
    "fruits.pop(1)"
   ]
  },
  {
   "cell_type": "code",
   "execution_count": 25,
   "id": "0fbb855a",
   "metadata": {},
   "outputs": [
    {
     "data": {
      "text/plain": [
       "['apple', 'grape', 'orange', 'melon']"
      ]
     },
     "execution_count": 25,
     "metadata": {},
     "output_type": "execute_result"
    }
   ],
   "source": [
    "fruits"
   ]
  },
  {
   "cell_type": "code",
   "execution_count": 26,
   "id": "28729f5b",
   "metadata": {},
   "outputs": [],
   "source": [
    "fruits.sort()"
   ]
  },
  {
   "cell_type": "code",
   "execution_count": 27,
   "id": "656a1a83",
   "metadata": {},
   "outputs": [
    {
     "data": {
      "text/plain": [
       "['apple', 'grape', 'melon', 'orange']"
      ]
     },
     "execution_count": 27,
     "metadata": {},
     "output_type": "execute_result"
    }
   ],
   "source": [
    "fruits"
   ]
  },
  {
   "cell_type": "code",
   "execution_count": 29,
   "id": "48d67f5c",
   "metadata": {},
   "outputs": [
    {
     "name": "stdout",
     "output_type": "stream",
     "text": [
      "apple\n",
      "grape\n",
      "melon\n",
      "orange\n"
     ]
    }
   ],
   "source": [
    "for i in fruits:\n",
    "    print(i)"
   ]
  },
  {
   "cell_type": "code",
   "execution_count": 30,
   "id": "1bec5be8",
   "metadata": {},
   "outputs": [],
   "source": [
    "fruits.extend([\"Shine Muscat\"])"
   ]
  },
  {
   "cell_type": "code",
   "execution_count": 31,
   "id": "99fd7c83",
   "metadata": {},
   "outputs": [
    {
     "data": {
      "text/plain": [
       "['apple', 'grape', 'melon', 'orange', 'Shine Muscat']"
      ]
     },
     "execution_count": 31,
     "metadata": {},
     "output_type": "execute_result"
    }
   ],
   "source": [
    "fruits"
   ]
  },
  {
   "cell_type": "code",
   "execution_count": 36,
   "id": "c8dbefeb",
   "metadata": {},
   "outputs": [
    {
     "name": "stdout",
     "output_type": "stream",
     "text": [
      "0번째 과일 apple\n",
      "1번째 과일 grape\n",
      "2번째 과일 melon\n",
      "3번째 과일 orange\n",
      "4번째 과일 Shine Muscat\n"
     ]
    }
   ],
   "source": [
    "for i in range(len(fruits)):\n",
    "    print(f\"{i}번째 과일 {fruits[i]}\")"
   ]
  },
  {
   "cell_type": "markdown",
   "id": "c28c439a",
   "metadata": {},
   "source": [
    "### 반복문을 이용해서 리스트를 간단하게 생성 가능 -> 리스트컴프리헨션"
   ]
  },
  {
   "cell_type": "code",
   "execution_count": 37,
   "id": "d9851a64",
   "metadata": {},
   "outputs": [],
   "source": [
    "numbers = [1,2,3,4,5,6,7,8,9,]"
   ]
  },
  {
   "cell_type": "code",
   "execution_count": 44,
   "id": "14a4f577",
   "metadata": {},
   "outputs": [],
   "source": [
    "numbers = [i+1 for i in range(10)]"
   ]
  },
  {
   "cell_type": "code",
   "execution_count": 45,
   "id": "0aa3766b",
   "metadata": {},
   "outputs": [
    {
     "data": {
      "text/plain": [
       "[1, 2, 3, 4, 5, 6, 7, 8, 9, 10]"
      ]
     },
     "execution_count": 45,
     "metadata": {},
     "output_type": "execute_result"
    }
   ],
   "source": [
    "numbers"
   ]
  },
  {
   "cell_type": "code",
   "execution_count": 50,
   "id": "55afc30c",
   "metadata": {},
   "outputs": [
    {
     "data": {
      "text/plain": [
       "[0, 1, 2, 3, 4, 5, 6, 7, 8, 9]"
      ]
     },
     "execution_count": 50,
     "metadata": {},
     "output_type": "execute_result"
    }
   ],
   "source": [
    "# 어려운 버전\n",
    "num_list = []\n",
    "for i in range(10):\n",
    "    # print(i)\n",
    "    num_list.append(i)\n",
    "num_list"
   ]
  },
  {
   "cell_type": "code",
   "execution_count": 51,
   "id": "f5c39043",
   "metadata": {},
   "outputs": [
    {
     "data": {
      "text/plain": [
       "[2, 4, 6, 8, 10]"
      ]
     },
     "execution_count": 51,
     "metadata": {},
     "output_type": "execute_result"
    }
   ],
   "source": [
    "numbers = [i for i in range(1, 10+1) if i %2 == 0]\n",
    "numbers"
   ]
  },
  {
   "cell_type": "code",
   "execution_count": 55,
   "id": "52fe5e50",
   "metadata": {},
   "outputs": [
    {
     "data": {
      "text/plain": [
       "[2, 4, 6, 8, 10, 12, 14, 16, 18, 20]"
      ]
     },
     "execution_count": 55,
     "metadata": {},
     "output_type": "execute_result"
    }
   ],
   "source": [
    "numbers = [i*2 for i in range(1, 10+1)]\n",
    "numbers"
   ]
  },
  {
   "cell_type": "code",
   "execution_count": 56,
   "id": "22982d90",
   "metadata": {},
   "outputs": [
    {
     "data": {
      "text/plain": [
       "[1, 4, 9, 16, 25, 36, 49, 64, 81, 100]"
      ]
     },
     "execution_count": 56,
     "metadata": {},
     "output_type": "execute_result"
    }
   ],
   "source": [
    "numbers = [i**2 for i in range(1, 10+1)]\n",
    "numbers"
   ]
  },
  {
   "cell_type": "code",
   "execution_count": 59,
   "id": "5d20793e",
   "metadata": {},
   "outputs": [
    {
     "name": "stdout",
     "output_type": "stream",
     "text": [
      "1번 학생 합격입니다.\n",
      "2번 학생 불합격입니다.\n",
      "3번 학생 합격입니다.\n",
      "4번 학생 불합격입니다.\n",
      "5번 학생 합격입니다.\n"
     ]
    }
   ],
   "source": [
    "marks = [90,25, 67, 45, 80]\n",
    "for i in range(len(marks)):   # i는 0부터 시작\n",
    "    score = marks[i]\n",
    "\n",
    "    if score >= 60:\n",
    "        print(f\"{i+1}번 학생 합격입니다.\")\n",
    "    else:\n",
    "        print(f\"{i+1}번 학생 불합격입니다.\")"
   ]
  },
  {
   "cell_type": "code",
   "execution_count": 66,
   "id": "335cbfa0",
   "metadata": {},
   "outputs": [
    {
     "name": "stdout",
     "output_type": "stream",
     "text": [
      "끝말잇기 게임\n",
      "시작!\n",
      "첫 단어: 가나다\n",
      "통과!\n",
      "통과!\n",
      "통과!\n",
      "땡\n"
     ]
    }
   ],
   "source": [
    "print(\"끝말잇기 게임\")\n",
    "print(\"시작!\")\n",
    "\n",
    "word = \"가나다\"   # 첫 번째 단어\n",
    "print(\"첫 단어:\", word)\n",
    "\n",
    "while True:\n",
    "    next_word = input(\"다음 단어를 입력하세요: \")\n",
    "\n",
    "    # 끝말잇기 규칙 확인 (앞 단어의 마지막 글자 == 새 단어의 첫 글자)\n",
    "    if word[-1] == next_word[0]:\n",
    "        print(\"통과!\")\n",
    "        word = next_word  # 이어진 단어로 갱신\n",
    "    else:\n",
    "        print(\"땡\")\n",
    "        break"
   ]
  },
  {
   "cell_type": "code",
   "execution_count": 73,
   "id": "e2a46cbc",
   "metadata": {},
   "outputs": [
    {
     "data": {
      "text/plain": [
       "[1, 3, 0, 1]"
      ]
     },
     "execution_count": 73,
     "metadata": {},
     "output_type": "execute_result"
    }
   ],
   "source": [
    "numbers = [1, 1, 3, 3, 0, 1, 1]\n",
    "\n",
    "answer = []\n",
    "comp = numbers[0]\n",
    "answer.append(comp)\n",
    "\n",
    "for i in numbers:\n",
    "    if comp != i:\n",
    "        comp = i\n",
    "        answer.append(comp)\n",
    "\n",
    "answer"
   ]
  },
  {
   "cell_type": "code",
   "execution_count": 75,
   "id": "04960f07",
   "metadata": {},
   "outputs": [],
   "source": [
    "def num_min(arr):\n",
    "    answer = arr[0]\n",
    "    for i in arr:\n",
    "        if answer > i:\n",
    "            answer = i\n",
    "    return answer\n"
   ]
  },
  {
   "cell_type": "code",
   "execution_count": 79,
   "id": "5c48d53a",
   "metadata": {},
   "outputs": [],
   "source": [
    "def add_mul(choice, *args):\n",
    "    # print(choice, args)\n",
    "    # 여기에 코드를 작성해주세요!!!\n",
    "    if choice == 'add' :\n",
    "        result = 0\n",
    "        for i in args:\n",
    "            result += i\n",
    "    elif choice == 'mul' :\n",
    "        result = 1\n",
    "        for i in args:\n",
    "            result *= i\n",
    "    else:\n",
    "        print('연산자 종류 확인 요망!!!')\n",
    "        result = None\n",
    "    return result"
   ]
  },
  {
   "cell_type": "code",
   "execution_count": 80,
   "id": "edff17cd",
   "metadata": {},
   "outputs": [
    {
     "data": {
      "text/plain": [
       "6"
      ]
     },
     "execution_count": 80,
     "metadata": {},
     "output_type": "execute_result"
    }
   ],
   "source": [
    "add_mul('mul', 1,2,3)"
   ]
  },
  {
   "cell_type": "code",
   "execution_count": 81,
   "id": "0cea4a09",
   "metadata": {},
   "outputs": [],
   "source": [
    "def add_and_mul(a, b):\n",
    "    return a+b, a*b"
   ]
  },
  {
   "cell_type": "code",
   "execution_count": 82,
   "id": "e8fececa",
   "metadata": {},
   "outputs": [
    {
     "data": {
      "text/plain": [
       "(7, 12)"
      ]
     },
     "execution_count": 82,
     "metadata": {},
     "output_type": "execute_result"
    }
   ],
   "source": [
    "add_and_mul(3,4)"
   ]
  },
  {
   "cell_type": "code",
   "execution_count": 83,
   "id": "e57b1dba",
   "metadata": {},
   "outputs": [],
   "source": [
    "def say_myself(name, age, man):\n",
    "    print(f'{name}, {age}')\n",
    "    if man:\n",
    "        print('남성')\n",
    "    else:\n",
    "        print('여성')"
   ]
  },
  {
   "cell_type": "code",
   "execution_count": 88,
   "id": "f240de48",
   "metadata": {},
   "outputs": [
    {
     "name": "stdout",
     "output_type": "stream",
     "text": [
      "장원영, 30\n",
      "남성\n"
     ]
    }
   ],
   "source": [
    "say_myself('장원영', age = 30, man=True)"
   ]
  },
  {
   "cell_type": "code",
   "execution_count": null,
   "id": "248cd6e1",
   "metadata": {},
   "outputs": [],
   "source": []
  }
 ],
 "metadata": {
  "kernelspec": {
   "display_name": "Python 3",
   "language": "python",
   "name": "python3"
  },
  "language_info": {
   "codemirror_mode": {
    "name": "ipython",
    "version": 3
   },
   "file_extension": ".py",
   "mimetype": "text/x-python",
   "name": "python",
   "nbconvert_exporter": "python",
   "pygments_lexer": "ipython3",
   "version": "3.11.8"
  }
 },
 "nbformat": 4,
 "nbformat_minor": 5
}
