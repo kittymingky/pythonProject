{
 "cells": [
  {
   "cell_type": "code",
   "execution_count": 80,
   "id": "e3bad394",
   "metadata": {},
   "outputs": [
    {
     "name": "stdout",
     "output_type": "stream",
     "text": [
      "None\n",
      "1\n"
     ]
    }
   ],
   "source": [
    "a = 1\n",
    "\n",
    "def vartest(a):\n",
    "    a = a+1\n",
    "\n",
    "print(vartest(a))\n",
    "print(a)"
   ]
  },
  {
   "cell_type": "code",
   "execution_count": 81,
   "id": "629a9e5f",
   "metadata": {},
   "outputs": [
    {
     "name": "stdout",
     "output_type": "stream",
     "text": [
      "1\n"
     ]
    }
   ],
   "source": [
    "def vartest(a):\n",
    "    a = a+1\n",
    "\n",
    "vartest(3)\n",
    "print(a)"
   ]
  },
  {
   "cell_type": "code",
   "execution_count": 82,
   "id": "93f6976e",
   "metadata": {},
   "outputs": [],
   "source": [
    "a = 1\n",
    "def vartest(a):\n",
    "    a = a + 1\n",
    "    return "
   ]
  },
  {
   "cell_type": "code",
   "execution_count": 83,
   "id": "8dce8e14",
   "metadata": {},
   "outputs": [],
   "source": [
    "def say_myself(name, age, man=True, hobb='coding'):\n",
    "    print(f'{name}, {age}')\n",
    "    print(man)\n",
    "    print(hobby)"
   ]
  },
  {
   "cell_type": "code",
   "execution_count": 84,
   "id": "eb10f9ad",
   "metadata": {},
   "outputs": [],
   "source": [
    "mylist = [1, 2, 3, 4, 5]\n",
    "# -> [2, 3, 4, 5, 6]"
   ]
  },
  {
   "cell_type": "code",
   "execution_count": 85,
   "id": "14fbe03d",
   "metadata": {},
   "outputs": [
    {
     "ename": "SyntaxError",
     "evalue": "invalid syntax (822057482.py, line 4)",
     "output_type": "error",
     "traceback": [
      "  \u001b[36mCell\u001b[39m\u001b[36m \u001b[39m\u001b[32mIn[85]\u001b[39m\u001b[32m, line 4\u001b[39m\n\u001b[31m    \u001b[39m\u001b[31mdef\u001b[39m\n       ^\n\u001b[31mSyntaxError\u001b[39m\u001b[31m:\u001b[39m invalid syntax\n"
     ]
    }
   ],
   "source": [
    "result = []\n",
    "for i in mylist:\n",
    "    result.append(i + 1)\n",
    "def\n",
    "print(result)"
   ]
  },
  {
   "cell_type": "code",
   "execution_count": null,
   "id": "6cf20d55",
   "metadata": {},
   "outputs": [
    {
     "data": {
      "text/plain": [
       "[2, 3, 4, 5, 6]"
      ]
     },
     "execution_count": 9,
     "metadata": {},
     "output_type": "execute_result"
    }
   ],
   "source": [
    "mylist = [1, 2, 3, 4, 5]\n",
    "\n",
    "def add_one(n):\n",
    "    return n +1\n",
    "\n",
    "result = list(map(add_one, mylist))\n",
    "result"
   ]
  },
  {
   "cell_type": "code",
   "execution_count": null,
   "id": "02653b24",
   "metadata": {},
   "outputs": [],
   "source": [
    "for i in range(len(mylist)):\n",
    "    add_one(mylist[i])"
   ]
  },
  {
   "cell_type": "code",
   "execution_count": null,
   "id": "417be641",
   "metadata": {},
   "outputs": [
    {
     "data": {
      "text/plain": [
       "[3, -6, 100, 25]"
      ]
     },
     "execution_count": 11,
     "metadata": {},
     "output_type": "execute_result"
    }
   ],
   "source": [
    "mylist = [3.14, -5.6, 100.4, 25.0]\n",
    "\n",
    "result = list(map(round, mylist))\n",
    "result"
   ]
  },
  {
   "cell_type": "code",
   "execution_count": null,
   "id": "99b30006",
   "metadata": {},
   "outputs": [
    {
     "data": {
      "text/plain": [
       "100"
      ]
     },
     "execution_count": 12,
     "metadata": {},
     "output_type": "execute_result"
    }
   ],
   "source": [
    "round(100.4)"
   ]
  },
  {
   "cell_type": "code",
   "execution_count": null,
   "id": "efce8a51",
   "metadata": {},
   "outputs": [
    {
     "data": {
      "text/plain": [
       "[1, 4, 9, 16, 25]"
      ]
     },
     "execution_count": 13,
     "metadata": {},
     "output_type": "execute_result"
    }
   ],
   "source": [
    "mylist = [1, 2, 3, 4, 5]\n",
    "\n",
    "result = list(map(lambda x: x**2, mylist))\n",
    "result"
   ]
  },
  {
   "cell_type": "code",
   "execution_count": null,
   "id": "7db8720f",
   "metadata": {},
   "outputs": [],
   "source": [
    "a = [8,3,2,10,15,7,1,0,11]"
   ]
  },
  {
   "cell_type": "code",
   "execution_count": null,
   "id": "1a3ddca4",
   "metadata": {},
   "outputs": [
    {
     "data": {
      "text/plain": [
       "[8, 7]"
      ]
     },
     "execution_count": 15,
     "metadata": {},
     "output_type": "execute_result"
    }
   ],
   "source": [
    "list(filter(lambda x: x>5 and x<10, a))"
   ]
  },
  {
   "cell_type": "code",
   "execution_count": null,
   "id": "e4a92a72",
   "metadata": {},
   "outputs": [],
   "source": [
    "def f(x):\n",
    "    return x > 5 and x < 10"
   ]
  },
  {
   "cell_type": "code",
   "execution_count": null,
   "id": "3ecb4ef5",
   "metadata": {},
   "outputs": [
    {
     "name": "stdout",
     "output_type": "stream",
     "text": [
      "[1, 4, 9, 16]\n"
     ]
    }
   ],
   "source": [
    "numbers = [1,2,3,4,]\n",
    "squared = list(map(lambda x: x ** 2, numbers))\n",
    "print(squared)"
   ]
  },
  {
   "cell_type": "code",
   "execution_count": null,
   "id": "d5f708d2",
   "metadata": {},
   "outputs": [
    {
     "name": "stdout",
     "output_type": "stream",
     "text": [
      "[(3, 4), (1, 2), (5, 1)]\n"
     ]
    }
   ],
   "source": [
    "points = [(1, 2), (3, 4), (5, 1)]\n",
    "sorted_points = sorted(points, key=lambda x: x[1], reverse=True)\n",
    "print(sorted_points)"
   ]
  },
  {
   "cell_type": "code",
   "execution_count": null,
   "id": "a21af1d6",
   "metadata": {},
   "outputs": [
    {
     "ename": "NameError",
     "evalue": "name 'rank' is not defined",
     "output_type": "error",
     "traceback": [
      "\u001b[31m---------------------------------------------------------------------------\u001b[39m",
      "\u001b[31mNameError\u001b[39m                                 Traceback (most recent call last)",
      "\u001b[36mCell\u001b[39m\u001b[36m \u001b[39m\u001b[32mIn[21]\u001b[39m\u001b[32m, line 2\u001b[39m\n\u001b[32m      1\u001b[39m score1 = [[\u001b[32m80\u001b[39m, \u001b[32m70\u001b[39m], [\u001b[32m90\u001b[39m, \u001b[32m50\u001b[39m], [\u001b[32m40\u001b[39m, \u001b[32m70\u001b[39m], [\u001b[32m50\u001b[39m, \u001b[32m80\u001b[39m]]\n\u001b[32m----> \u001b[39m\u001b[32m2\u001b[39m \u001b[43mrank\u001b[49m(score1)\n",
      "\u001b[31mNameError\u001b[39m: name 'rank' is not defined"
     ]
    }
   ],
   "source": [
    "score1 = [[80, 70], [90, 50], [40, 70], [50, 80]]\n",
    "rank(score1)"
   ]
  },
  {
   "cell_type": "code",
   "execution_count": null,
   "id": "44b518d2",
   "metadata": {},
   "outputs": [
    {
     "ename": "NameError",
     "evalue": "name 'rank' is not defined",
     "output_type": "error",
     "traceback": [
      "\u001b[31m---------------------------------------------------------------------------\u001b[39m",
      "\u001b[31mNameError\u001b[39m                                 Traceback (most recent call last)",
      "\u001b[36mCell\u001b[39m\u001b[36m \u001b[39m\u001b[32mIn[22]\u001b[39m\u001b[32m, line 2\u001b[39m\n\u001b[32m      1\u001b[39m score2 = [[\u001b[32m80\u001b[39m, \u001b[32m70\u001b[39m], [\u001b[32m70\u001b[39m, \u001b[32m80\u001b[39m], [\u001b[32m30\u001b[39m, \u001b[32m50\u001b[39m], [\u001b[32m90\u001b[39m, \u001b[32m100\u001b[39m], [\u001b[32m100\u001b[39m, \u001b[32m90\u001b[39m], [\u001b[32m100\u001b[39m, \u001b[32m100\u001b[39m], [\u001b[32m10\u001b[39m, \u001b[32m30\u001b[39m]]\n\u001b[32m----> \u001b[39m\u001b[32m2\u001b[39m \u001b[43mrank\u001b[49m(score2)\n",
      "\u001b[31mNameError\u001b[39m: name 'rank' is not defined"
     ]
    }
   ],
   "source": [
    "score2 = [[80, 70], [70, 80], [30, 50], [90, 100], [100, 90], [100, 100], [10, 30]]\n",
    "rank(score2)"
   ]
  },
  {
   "cell_type": "code",
   "execution_count": null,
   "id": "a25b331d",
   "metadata": {},
   "outputs": [],
   "source": [
    "def rank(score)\n",
    "    result = []\n",
    "    avg = []\n",
    "    for i, j in score:\n",
    "        #print((i+j)/2)\n",
    "        avg.append((i+j)/2)\n",
    "    avg_sort = sorted(avg, reverse=True)\n",
    "    for i in avg:\n",
    "        result.append(avg+sort.index(i) + 1)\n",
    "    # print(result)\n",
    "\n",
    "return result"
   ]
  },
  {
   "cell_type": "code",
   "execution_count": null,
   "id": "cc905bbc",
   "metadata": {},
   "outputs": [
    {
     "ename": "SyntaxError",
     "evalue": "incomplete input (3409624575.py, line 2)",
     "output_type": "error",
     "traceback": [
      "  \u001b[36mCell\u001b[39m\u001b[36m \u001b[39m\u001b[32mIn[23]\u001b[39m\u001b[32m, line 2\u001b[39m\n\u001b[31m    \u001b[39m\n    ^\n\u001b[31mSyntaxError\u001b[39m\u001b[31m:\u001b[39m incomplete input\n"
     ]
    }
   ],
   "source": [
    "def rank(score):\n",
    "    "
   ]
  },
  {
   "cell_type": "code",
   "execution_count": null,
   "id": "8485429a",
   "metadata": {},
   "outputs": [
    {
     "ename": "SyntaxError",
     "evalue": "invalid syntax (2459161544.py, line 2)",
     "output_type": "error",
     "traceback": [
      "  \u001b[36mCell\u001b[39m\u001b[36m \u001b[39m\u001b[32mIn[26]\u001b[39m\u001b[32m, line 2\u001b[39m\n\u001b[31m    \u001b[39m\u001b[31m[2,3,4,5,6,7,8,9] -> [True, True, False, True, False, True, False, False]\u001b[39m\n                      ^\n\u001b[31mSyntaxError\u001b[39m\u001b[31m:\u001b[39m invalid syntax\n"
     ]
    }
   ],
   "source": [
    "소수판별함수 is prime()\n",
    "[2,3,4,5,6,7,8,9] -> [True, True, False, True, False, True, False, False]"
   ]
  },
  {
   "cell_type": "code",
   "execution_count": null,
   "id": "224f5653",
   "metadata": {},
   "outputs": [
    {
     "ename": "SyntaxError",
     "evalue": "invalid syntax (758326779.py, line 5)",
     "output_type": "error",
     "traceback": [
      "  \u001b[36mCell\u001b[39m\u001b[36m \u001b[39m\u001b[32mIn[25]\u001b[39m\u001b[32m, line 5\u001b[39m\n\u001b[31m    \u001b[39m\u001b[31mfor i range(2, num):\u001b[39m\n          ^\n\u001b[31mSyntaxError\u001b[39m\u001b[31m:\u001b[39m invalid syntax\n"
     ]
    }
   ],
   "source": [
    "def is_prime(num_list):\n",
    "    result = []\n",
    "    for num in num_list:\n",
    "        isprime = True\n",
    "        for i range(2, num):\n",
    "            if num % i == 0:\n",
    "               isprime = False\n",
    "               break\n",
    "        result.append(isprime)\n",
    "    return result"
   ]
  },
  {
   "cell_type": "code",
   "execution_count": null,
   "id": "c598c2da",
   "metadata": {},
   "outputs": [
    {
     "ename": "NameError",
     "evalue": "name 'is_prime' is not defined",
     "output_type": "error",
     "traceback": [
      "\u001b[31m---------------------------------------------------------------------------\u001b[39m",
      "\u001b[31mNameError\u001b[39m                                 Traceback (most recent call last)",
      "\u001b[36mCell\u001b[39m\u001b[36m \u001b[39m\u001b[32mIn[29]\u001b[39m\u001b[32m, line 1\u001b[39m\n\u001b[32m----> \u001b[39m\u001b[32m1\u001b[39m \u001b[43mis_prime\u001b[49m([\u001b[32m2\u001b[39m, \u001b[32m3\u001b[39m, \u001b[32m4\u001b[39m, \u001b[32m5\u001b[39m, \u001b[32m6\u001b[39m, \u001b[32m7\u001b[39m, \u001b[32m8\u001b[39m, \u001b[32m9\u001b[39m])\n",
      "\u001b[31mNameError\u001b[39m: name 'is_prime' is not defined"
     ]
    }
   ],
   "source": [
    "is_prime([2, 3, 4, 5, 6, 7, 8, 9])"
   ]
  },
  {
   "cell_type": "code",
   "execution_count": null,
   "id": "b38c8f32",
   "metadata": {},
   "outputs": [],
   "source": [
    "import random"
   ]
  },
  {
   "cell_type": "code",
   "execution_count": null,
   "id": "b07f86ed",
   "metadata": {},
   "outputs": [
    {
     "data": {
      "text/plain": [
       "65"
      ]
     },
     "execution_count": 30,
     "metadata": {},
     "output_type": "execute_result"
    }
   ],
   "source": [
    "random.randint(1, 100)"
   ]
  },
  {
   "cell_type": "code",
   "execution_count": null,
   "id": "d4a6610f",
   "metadata": {},
   "outputs": [
    {
     "data": {
      "text/plain": [
       "1"
      ]
     },
     "execution_count": 32,
     "metadata": {},
     "output_type": "execute_result"
    }
   ],
   "source": [
    "from random import randint, randrange\n",
    "randint(1, 100)\n",
    "randrange(1, 3)"
   ]
  },
  {
   "cell_type": "code",
   "execution_count": null,
   "id": "cef8e74d",
   "metadata": {},
   "outputs": [
    {
     "data": {
      "text/plain": [
       "[1]"
      ]
     },
     "execution_count": 36,
     "metadata": {},
     "output_type": "execute_result"
    }
   ],
   "source": [
    "from random import *\n",
    "\n",
    "randint(1, 100)\n",
    "randrange(1, 3)\n",
    "sample([1,2,3,], 1)"
   ]
  },
  {
   "cell_type": "code",
   "execution_count": null,
   "id": "433a7534",
   "metadata": {},
   "outputs": [
    {
     "ename": "ModuleNotFoundError",
     "evalue": "No module named 'numpy'",
     "output_type": "error",
     "traceback": [
      "\u001b[31m---------------------------------------------------------------------------\u001b[39m",
      "\u001b[31mModuleNotFoundError\u001b[39m                       Traceback (most recent call last)",
      "\u001b[36mCell\u001b[39m\u001b[36m \u001b[39m\u001b[32mIn[37]\u001b[39m\u001b[32m, line 3\u001b[39m\n\u001b[32m      1\u001b[39m \u001b[38;5;28;01mfrom\u001b[39;00m\u001b[38;5;250m \u001b[39m\u001b[34;01mrandom\u001b[39;00m\u001b[38;5;250m \u001b[39m\u001b[38;5;28;01mimport\u001b[39;00m *\n\u001b[32m      2\u001b[39m \u001b[38;5;28;01mfrom\u001b[39;00m\u001b[38;5;250m \u001b[39m\u001b[34;01mmath\u001b[39;00m\u001b[38;5;250m \u001b[39m\u001b[38;5;28;01mimport\u001b[39;00m *\n\u001b[32m----> \u001b[39m\u001b[32m3\u001b[39m \u001b[38;5;28;01mfrom\u001b[39;00m\u001b[38;5;250m \u001b[39m\u001b[34;01mnumpy\u001b[39;00m\u001b[38;5;250m \u001b[39m\u001b[38;5;28;01mimport\u001b[39;00m *\n\u001b[32m      5\u001b[39m randint(\u001b[32m1\u001b[39m, \u001b[32m100\u001b[39m)\n\u001b[32m      6\u001b[39m randrange(\u001b[32m1\u001b[39m, \u001b[32m3\u001b[39m)\n",
      "\u001b[31mModuleNotFoundError\u001b[39m: No module named 'numpy'"
     ]
    }
   ],
   "source": [
    "from random import *\n",
    "from math import *\n",
    "from numpy import *\n",
    "\n",
    "randint(1, 100)\n",
    "randrange(1, 3)\n",
    "sample([1,2,3], 1)"
   ]
  },
  {
   "cell_type": "code",
   "execution_count": null,
   "id": "c2c83283",
   "metadata": {},
   "outputs": [
    {
     "name": "stdout",
     "output_type": "stream",
     "text": [
      "🎰 행운번호 추첨 결과: [7, 38, 37, 32, 9, 30]\n"
     ]
    }
   ],
   "source": [
    "import random  # 파이썬 기본 제공 모듈 (설치 필요 없음)\n",
    "\n",
    "def lucky_numbers():\n",
    "    # 1부터 45까지 숫자 중에서 중복 없이 6개 뽑기\n",
    "    numbers = random.sample(range(1, 46), 6)\n",
    "    return numbers\n",
    "\n",
    "# 실행\n",
    "print(\"🎰 행운번호 추첨 결과:\", lucky_numbers())"
   ]
  },
  {
   "cell_type": "code",
   "execution_count": null,
   "id": "8cbe4727",
   "metadata": {},
   "outputs": [
    {
     "name": "stdout",
     "output_type": "stream",
     "text": [
      "[1, 14, 33, 29, 21, 18]\n"
     ]
    }
   ],
   "source": [
    "import random as r\n",
    "\n",
    "result = []\n",
    "while len(result) < 6:\n",
    "    num = r.randint(1, 45)\n",
    "    if num not in result:\n",
    "        result.append(num)\n",
    "        \n",
    "print(result)"
   ]
  },
  {
   "cell_type": "code",
   "execution_count": null,
   "id": "507e85d2",
   "metadata": {},
   "outputs": [],
   "source": [
    "while True:\n",
    "    user = input(\"가위, 바위, 보 : \")\n",
    "    com = sel[random.randint(0, 2)]"
   ]
  },
  {
   "cell_type": "markdown",
   "id": "256a4923",
   "metadata": {},
   "source": [
    "## 사용자정의모듈"
   ]
  },
  {
   "cell_type": "code",
   "execution_count": null,
   "id": "abf4217c",
   "metadata": {},
   "outputs": [],
   "source": [
    "import mymodule as mm"
   ]
  },
  {
   "cell_type": "code",
   "execution_count": 86,
   "id": "b588be67",
   "metadata": {},
   "outputs": [
    {
     "data": {
      "text/plain": [
       "3"
      ]
     },
     "execution_count": 86,
     "metadata": {},
     "output_type": "execute_result"
    }
   ],
   "source": [
    "mm.my_add(1, 2)"
   ]
  },
  {
   "cell_type": "code",
   "execution_count": 90,
   "id": "33833a64",
   "metadata": {},
   "outputs": [
    {
     "ename": "AttributeError",
     "evalue": "module 'mymodule' has no attribute 'Character'",
     "output_type": "error",
     "traceback": [
      "\u001b[31m---------------------------------------------------------------------------\u001b[39m",
      "\u001b[31mAttributeError\u001b[39m                            Traceback (most recent call last)",
      "\u001b[36mCell\u001b[39m\u001b[36m \u001b[39m\u001b[32mIn[90]\u001b[39m\u001b[32m, line 1\u001b[39m\n\u001b[32m----> \u001b[39m\u001b[32m1\u001b[39m hero = \u001b[43mmm\u001b[49m\u001b[43m.\u001b[49m\u001b[43mCharacter\u001b[49m(\u001b[33m'\u001b[39m\u001b[33m전사\u001b[39m\u001b[33m'\u001b[39m)\n",
      "\u001b[31mAttributeError\u001b[39m: module 'mymodule' has no attribute 'Character'"
     ]
    }
   ],
   "source": [
    "hero = mm.Character('전사')"
   ]
  },
  {
   "cell_type": "code",
   "execution_count": 91,
   "id": "fe4a77d0",
   "metadata": {},
   "outputs": [
    {
     "ename": "NameError",
     "evalue": "name 'hero' is not defined",
     "output_type": "error",
     "traceback": [
      "\u001b[31m---------------------------------------------------------------------------\u001b[39m",
      "\u001b[31mNameError\u001b[39m                                 Traceback (most recent call last)",
      "\u001b[36mCell\u001b[39m\u001b[36m \u001b[39m\u001b[32mIn[91]\u001b[39m\u001b[32m, line 1\u001b[39m\n\u001b[32m----> \u001b[39m\u001b[32m1\u001b[39m \u001b[43mhero\u001b[49m.speak()\n",
      "\u001b[31mNameError\u001b[39m: name 'hero' is not defined"
     ]
    }
   ],
   "source": [
    "hero.speak()"
   ]
  },
  {
   "cell_type": "code",
   "execution_count": null,
   "id": "cdd3647d",
   "metadata": {},
   "outputs": [
    {
     "name": "stdout",
     "output_type": "stream",
     "text": [
      "10\n",
      "-4\n"
     ]
    }
   ],
   "source": [
    "import mymodule as mm\n",
    "\n",
    "print(mm.my_add(7, 3))\n",
    "print(mm.my_sub(3, 5))"
   ]
  },
  {
   "cell_type": "code",
   "execution_count": null,
   "id": "c647216d",
   "metadata": {},
   "outputs": [],
   "source": [
    "class Person:\n",
    "    def __init__(self, name, age):\n",
    "        self.name = name\n",
    "        self.age = age\n",
    "    def walk(self):\n",
    "        print(f'{self.name}이 걸어가요')"
   ]
  },
  {
   "cell_type": "code",
   "execution_count": null,
   "id": "41513c0d",
   "metadata": {},
   "outputs": [],
   "source": [
    "person1 = Person(\"박지민\", 31)"
   ]
  },
  {
   "cell_type": "code",
   "execution_count": null,
   "id": "c525fa2a",
   "metadata": {},
   "outputs": [
    {
     "name": "stdout",
     "output_type": "stream",
     "text": [
      "<class '__main__.Person'>\n"
     ]
    }
   ],
   "source": [
    "print(type(person1))"
   ]
  },
  {
   "cell_type": "code",
   "execution_count": null,
   "id": "cf8777dc",
   "metadata": {},
   "outputs": [
    {
     "name": "stdout",
     "output_type": "stream",
     "text": [
      "박지민이 걸어가요\n"
     ]
    }
   ],
   "source": [
    "person1.walk()"
   ]
  },
  {
   "cell_type": "code",
   "execution_count": null,
   "id": "d2647157",
   "metadata": {},
   "outputs": [],
   "source": [
    "person2 = Person(\"전정국\", 29)"
   ]
  },
  {
   "cell_type": "code",
   "execution_count": null,
   "id": "9ec3bee2",
   "metadata": {},
   "outputs": [
    {
     "name": "stdout",
     "output_type": "stream",
     "text": [
      "전정국이 걸어가요\n"
     ]
    }
   ],
   "source": [
    "person2.walk()"
   ]
  },
  {
   "cell_type": "code",
   "execution_count": 114,
   "id": "2d4eb6c2",
   "metadata": {},
   "outputs": [],
   "source": [
    "class NewPerson(Person):\n",
    "    def fly(self):\n",
    "        print(f'{self.name}이 하늘을 날아요')"
   ]
  },
  {
   "cell_type": "code",
   "execution_count": null,
   "id": "73c195b8",
   "metadata": {},
   "outputs": [],
   "source": [
    "person3 = NewPerson(\"정호석\", 33)"
   ]
  },
  {
   "cell_type": "code",
   "execution_count": null,
   "id": "29964d85",
   "metadata": {},
   "outputs": [
    {
     "name": "stdout",
     "output_type": "stream",
     "text": [
      "정호석이 걸어가요\n"
     ]
    }
   ],
   "source": [
    "person3.walk()"
   ]
  },
  {
   "cell_type": "code",
   "execution_count": 115,
   "id": "0ec63a16",
   "metadata": {},
   "outputs": [
    {
     "ename": "AttributeError",
     "evalue": "'NewPerson' object has no attribute 'fly'",
     "output_type": "error",
     "traceback": [
      "\u001b[31m---------------------------------------------------------------------------\u001b[39m",
      "\u001b[31mAttributeError\u001b[39m                            Traceback (most recent call last)",
      "\u001b[36mCell\u001b[39m\u001b[36m \u001b[39m\u001b[32mIn[115]\u001b[39m\u001b[32m, line 1\u001b[39m\n\u001b[32m----> \u001b[39m\u001b[32m1\u001b[39m \u001b[43mperson3\u001b[49m\u001b[43m.\u001b[49m\u001b[43mfly\u001b[49m()\n",
      "\u001b[31mAttributeError\u001b[39m: 'NewPerson' object has no attribute 'fly'"
     ]
    }
   ],
   "source": [
    "person3.fly()"
   ]
  },
  {
   "cell_type": "code",
   "execution_count": null,
   "id": "1944c5e4",
   "metadata": {},
   "outputs": [],
   "source": [
    "class SafeFourCal:\n",
    "    def div(self):\n",
    "        if self.second == 0:\n",
    "            return 0\n",
    "        else:\n",
    "            return self."
   ]
  },
  {
   "cell_type": "code",
   "execution_count": null,
   "id": "d56ce81e",
   "metadata": {},
   "outputs": [],
   "source": [
    "### 결제시스템\n",
    "신용카드, 포인트 결제"
   ]
  },
  {
   "cell_type": "code",
   "execution_count": 92,
   "id": "fdbbef0d",
   "metadata": {},
   "outputs": [],
   "source": [
    "def pay_credit_payment(card_info, amount):\n",
    "    \"\"\" 신용카드 결제 로직\"\"\"\n",
    "    print(f\"{card_info['card_number']}카드로 {amount}원 결제되었습니다.\")\n",
    "    print('결제 완료')\n",
    "\n",
    "def pay_with_points(point_wallet, amount):\n",
    "    if point_wallet['balance'] >= amount:\n",
    "        point_wallet['balance'] -= amount\n",
    "        print(f\" 포인트{amount}점을 사용하여 결제되었습니다.\")\n",
    "    else:\n",
    "        print(\"포인트가 부족합니다.\")"
   ]
  },
  {
   "cell_type": "code",
   "execution_count": null,
   "id": "78815600",
   "metadata": {},
   "outputs": [],
   "source": [
    "credit_card = {\n",
    "    'type':'credit_card',\n",
    "    'card'\n",
    "}"
   ]
  },
  {
   "cell_type": "code",
   "execution_count": 93,
   "id": "4fb7d049",
   "metadata": {},
   "outputs": [],
   "source": [
    "credit_card = {\n",
    "    'type' : \"point_wallet\",\n",
    "    'balance' : 50000\n",
    "}"
   ]
  },
  {
   "cell_type": "code",
   "execution_count": 97,
   "id": "ffbd6907",
   "metadata": {},
   "outputs": [],
   "source": [
    "def payment(payment_method, amount):\n",
    "    payment_type=payment_method['type']\n",
    "\n",
    "    if payment_type == 'credit_card':\n",
    "        pay_credit_payment(payment_method, amount)\n",
    "    elif payment_type == 'point_wallet':\n",
    "        pay_with_point(payment_method, amount)\n",
    "\n",
    "    else:\n",
    "        print(\"지원되지 않는 결제방식\")"
   ]
  },
  {
   "cell_type": "code",
   "execution_count": 112,
   "id": "3e60db35",
   "metadata": {},
   "outputs": [
    {
     "ename": "NameError",
     "evalue": "name 'pay_with_point' is not defined",
     "output_type": "error",
     "traceback": [
      "\u001b[31m---------------------------------------------------------------------------\u001b[39m",
      "\u001b[31mNameError\u001b[39m                                 Traceback (most recent call last)",
      "\u001b[36mCell\u001b[39m\u001b[36m \u001b[39m\u001b[32mIn[112]\u001b[39m\u001b[32m, line 1\u001b[39m\n\u001b[32m----> \u001b[39m\u001b[32m1\u001b[39m \u001b[43mpayment\u001b[49m\u001b[43m(\u001b[49m\u001b[43mcredit_card\u001b[49m\u001b[43m,\u001b[49m\u001b[43m \u001b[49m\u001b[32;43m2500\u001b[39;49m\u001b[43m)\u001b[49m\n\u001b[32m      2\u001b[39m payment(my_points, \u001b[32m10000\u001b[39m)\n\u001b[32m      3\u001b[39m payment(my_points, \u001b[32m50000\u001b[39m)\n",
      "\u001b[36mCell\u001b[39m\u001b[36m \u001b[39m\u001b[32mIn[97]\u001b[39m\u001b[32m, line 7\u001b[39m, in \u001b[36mpayment\u001b[39m\u001b[34m(payment_method, amount)\u001b[39m\n\u001b[32m      5\u001b[39m     pay_credit_payment(payment_method, amount)\n\u001b[32m      6\u001b[39m \u001b[38;5;28;01melif\u001b[39;00m payment_type == \u001b[33m'\u001b[39m\u001b[33mpoint_wallet\u001b[39m\u001b[33m'\u001b[39m:\n\u001b[32m----> \u001b[39m\u001b[32m7\u001b[39m     \u001b[43mpay_with_point\u001b[49m(payment_method, amount)\n\u001b[32m      9\u001b[39m \u001b[38;5;28;01melse\u001b[39;00m:\n\u001b[32m     10\u001b[39m     \u001b[38;5;28mprint\u001b[39m(\u001b[33m\"\u001b[39m\u001b[33m지원되지 않는 결제방식\u001b[39m\u001b[33m\"\u001b[39m)\n",
      "\u001b[31mNameError\u001b[39m: name 'pay_with_point' is not defined"
     ]
    }
   ],
   "source": [
    "payment(credit_card, 2500)\n",
    "payment(my_points, 10000)\n",
    "payment(my_points, 50000)"
   ]
  },
  {
   "cell_type": "code",
   "execution_count": 101,
   "id": "34125dad",
   "metadata": {},
   "outputs": [],
   "source": [
    "class PaymentMethod:\n",
    "    def pay(self, amount):\n",
    "        print(f\"{amount}원 결제\")"
   ]
  },
  {
   "cell_type": "code",
   "execution_count": 103,
   "id": "934c52e9",
   "metadata": {},
   "outputs": [],
   "source": [
    "class CreditCard(PaymentMethod):\n",
    "    def __init__(self, card_number, cvc):\n",
    "        self.card_number = card_number\n",
    "        self.cvc = cvc\n",
    "    \n",
    "    def pay(self, amount):\n",
    "        print(f\"{card_info['card_number']}카드로 {amount}원 결제합니다.\")\n",
    "        print('결제 완료')\n",
    "\n",
    "class PointWallet(PaymentMethod):\n",
    "    def __init__(self, balance):\n",
    "        self.balance = balance\n",
    "    \n",
    "    def pay(self, amount):\n",
    "        if self.balance >= amount:\n",
    "            self.balance -= amount\n",
    "            print(f\"포인트 {amount}점을 사용해서 결제했습니다.\")\n",
    "        else:\n",
    "            print(\"포인트가 부족합니다.\")"
   ]
  },
  {
   "cell_type": "code",
   "execution_count": 105,
   "id": "5e5742b9",
   "metadata": {},
   "outputs": [],
   "source": [
    "def process_payment(payment_method, amount):\n",
    "    payment_method.pay(amount)\n",
    "\n",
    "    card_obj = CreditCard(\"4444-4444-xxxxx\" , 777)\n",
    "    point_obj = PointWallet(50000)"
   ]
  },
  {
   "cell_type": "code",
   "execution_count": 106,
   "id": "305b961b",
   "metadata": {},
   "outputs": [
    {
     "name": "stdout",
     "output_type": "stream",
     "text": [
      "Collecting numpy\n",
      "  Downloading numpy-2.3.3-cp311-cp311-win_amd64.whl.metadata (60 kB)\n",
      "     ---------------------------------------- 0.0/60.9 kB ? eta -:--:--\n",
      "     ------------------- ------------------ 30.7/60.9 kB 660.6 kB/s eta 0:00:01\n",
      "     ---------------------------------------- 60.9/60.9 kB 1.1 MB/s eta 0:00:00\n",
      "Downloading numpy-2.3.3-cp311-cp311-win_amd64.whl (13.1 MB)\n",
      "   ---------------------------------------- 0.0/13.1 MB ? eta -:--:--\n",
      "   - -------------------------------------- 0.4/13.1 MB 8.1 MB/s eta 0:00:02\n",
      "   -- ------------------------------------- 0.8/13.1 MB 9.7 MB/s eta 0:00:02\n",
      "   --- ------------------------------------ 1.3/13.1 MB 9.1 MB/s eta 0:00:02\n",
      "   ----- ---------------------------------- 1.8/13.1 MB 9.7 MB/s eta 0:00:02\n",
      "   ------ --------------------------------- 2.2/13.1 MB 10.2 MB/s eta 0:00:02\n",
      "   -------- ------------------------------- 2.7/13.1 MB 9.7 MB/s eta 0:00:02\n",
      "   --------- ------------------------------ 3.1/13.1 MB 10.0 MB/s eta 0:00:01\n",
      "   ---------- ----------------------------- 3.5/13.1 MB 9.6 MB/s eta 0:00:02\n",
      "   ----------- ---------------------------- 3.9/13.1 MB 9.6 MB/s eta 0:00:01\n",
      "   ------------- -------------------------- 4.5/13.1 MB 9.9 MB/s eta 0:00:01\n",
      "   -------------- ------------------------- 4.9/13.1 MB 9.8 MB/s eta 0:00:01\n",
      "   ---------------- ----------------------- 5.4/13.1 MB 9.9 MB/s eta 0:00:01\n",
      "   ----------------- ---------------------- 5.9/13.1 MB 9.9 MB/s eta 0:00:01\n",
      "   ------------------- -------------------- 6.5/13.1 MB 10.1 MB/s eta 0:00:01\n",
      "   --------------------- ------------------ 6.9/13.1 MB 10.1 MB/s eta 0:00:01\n",
      "   ---------------------- ----------------- 7.4/13.1 MB 10.1 MB/s eta 0:00:01\n",
      "   ------------------------ --------------- 7.9/13.1 MB 10.1 MB/s eta 0:00:01\n",
      "   ------------------------- -------------- 8.4/13.1 MB 10.1 MB/s eta 0:00:01\n",
      "   -------------------------- ------------- 8.8/13.1 MB 10.1 MB/s eta 0:00:01\n",
      "   ---------------------------- ----------- 9.3/13.1 MB 10.1 MB/s eta 0:00:01\n",
      "   ------------------------------ --------- 9.8/13.1 MB 10.1 MB/s eta 0:00:01\n",
      "   ------------------------------- -------- 10.2/13.1 MB 10.0 MB/s eta 0:00:01\n",
      "   -------------------------------- ------- 10.6/13.1 MB 10.2 MB/s eta 0:00:01\n",
      "   ---------------------------------- ----- 11.2/13.1 MB 10.2 MB/s eta 0:00:01\n",
      "   ----------------------------------- ---- 11.7/13.1 MB 10.2 MB/s eta 0:00:01\n",
      "   ------------------------------------- -- 12.2/13.1 MB 10.2 MB/s eta 0:00:01\n",
      "   -------------------------------------- - 12.7/13.1 MB 10.2 MB/s eta 0:00:01\n",
      "   ---------------------------------------  13.1/13.1 MB 10.4 MB/s eta 0:00:01\n",
      "   ---------------------------------------- 13.1/13.1 MB 10.1 MB/s eta 0:00:00\n",
      "Installing collected packages: numpy\n",
      "Successfully installed numpy-2.3.3\n"
     ]
    },
    {
     "name": "stderr",
     "output_type": "stream",
     "text": [
      "\n",
      "[notice] A new release of pip is available: 24.0 -> 25.2\n",
      "[notice] To update, run: python.exe -m pip install --upgrade pip\n"
     ]
    }
   ],
   "source": [
    "!pip install numpy"
   ]
  },
  {
   "cell_type": "code",
   "execution_count": 108,
   "id": "fd8cb1f9",
   "metadata": {},
   "outputs": [],
   "source": [
    "import numpy"
   ]
  },
  {
   "cell_type": "code",
   "execution_count": 109,
   "id": "811b4f40",
   "metadata": {},
   "outputs": [
    {
     "name": "stdout",
     "output_type": "stream",
     "text": [
      "Collecting beautifulsoup4\n",
      "  Downloading beautifulsoup4-4.13.5-py3-none-any.whl.metadata (3.8 kB)\n",
      "Collecting soupsieve>1.2 (from beautifulsoup4)\n",
      "  Downloading soupsieve-2.8-py3-none-any.whl.metadata (4.6 kB)\n",
      "Requirement already satisfied: typing-extensions>=4.0.0 in c:\\users\\el43\\appdata\\roaming\\python\\python311\\site-packages (from beautifulsoup4) (4.15.0)\n",
      "Downloading beautifulsoup4-4.13.5-py3-none-any.whl (105 kB)\n",
      "   ---------------------------------------- 0.0/105.1 kB ? eta -:--:--\n",
      "   --------------- ------------------------ 41.0/105.1 kB 2.0 MB/s eta 0:00:01\n",
      "   ---------------------------------------- 105.1/105.1 kB 2.0 MB/s eta 0:00:00\n",
      "Downloading soupsieve-2.8-py3-none-any.whl (36 kB)\n",
      "Installing collected packages: soupsieve, beautifulsoup4\n",
      "Successfully installed beautifulsoup4-4.13.5 soupsieve-2.8\n"
     ]
    },
    {
     "name": "stderr",
     "output_type": "stream",
     "text": [
      "\n",
      "[notice] A new release of pip is available: 24.0 -> 25.2\n",
      "[notice] To update, run: python.exe -m pip install --upgrade pip\n"
     ]
    }
   ],
   "source": [
    "!pip install beautifulsoup4"
   ]
  },
  {
   "cell_type": "code",
   "execution_count": 111,
   "id": "9c34a69e",
   "metadata": {},
   "outputs": [],
   "source": [
    "from bs4 import BeautifulSoup"
   ]
  },
  {
   "cell_type": "code",
   "execution_count": null,
   "id": "fc484aa8",
   "metadata": {},
   "outputs": [],
   "source": []
  }
 ],
 "metadata": {
  "kernelspec": {
   "display_name": "Python 3",
   "language": "python",
   "name": "python3"
  },
  "language_info": {
   "codemirror_mode": {
    "name": "ipython",
    "version": 3
   },
   "file_extension": ".py",
   "mimetype": "text/x-python",
   "name": "python",
   "nbconvert_exporter": "python",
   "pygments_lexer": "ipython3",
   "version": "3.11.8"
  }
 },
 "nbformat": 4,
 "nbformat_minor": 5
}
