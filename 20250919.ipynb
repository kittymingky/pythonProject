{
 "cells": [
  {
   "cell_type": "markdown",
   "id": "fb3115b8",
   "metadata": {},
   "source": [
    "## 2025-09-19"
   ]
  },
  {
   "cell_type": "code",
   "execution_count": 1,
   "id": "9f1b769c",
   "metadata": {},
   "outputs": [
    {
     "name": "stdout",
     "output_type": "stream",
     "text": [
      "안녕 이제 파이썬을 시작하려고 해\n"
     ]
    }
   ],
   "source": [
    "print(\"안녕 이제 파이썬을 시작하려고 해\")"
   ]
  },
  {
   "cell_type": "code",
   "execution_count": 2,
   "id": "aad1936c",
   "metadata": {},
   "outputs": [
    {
     "name": "stdout",
     "output_type": "stream",
     "text": [
      "Hello\n"
     ]
    }
   ],
   "source": [
    "print(\"Hello\")"
   ]
  },
  {
   "cell_type": "code",
   "execution_count": 3,
   "id": "861efbdd",
   "metadata": {},
   "outputs": [
    {
     "name": "stdout",
     "output_type": "stream",
     "text": [
      "True\n"
     ]
    }
   ],
   "source": [
    "print(True)"
   ]
  },
  {
   "cell_type": "code",
   "execution_count": 4,
   "id": "0e808a45",
   "metadata": {},
   "outputs": [
    {
     "name": "stdout",
     "output_type": "stream",
     "text": [
      "29\n"
     ]
    }
   ],
   "source": [
    "print(29)"
   ]
  },
  {
   "cell_type": "code",
   "execution_count": 5,
   "id": "63773e40",
   "metadata": {},
   "outputs": [
    {
     "data": {
      "text/plain": [
       "str"
      ]
     },
     "execution_count": 5,
     "metadata": {},
     "output_type": "execute_result"
    }
   ],
   "source": [
    "type('100')"
   ]
  },
  {
   "cell_type": "code",
   "execution_count": 6,
   "id": "1b08da35",
   "metadata": {},
   "outputs": [
    {
     "data": {
      "text/plain": [
       "float"
      ]
     },
     "execution_count": 6,
     "metadata": {},
     "output_type": "execute_result"
    }
   ],
   "source": [
    "type(3.14)"
   ]
  },
  {
   "cell_type": "code",
   "execution_count": 7,
   "id": "1c645c14",
   "metadata": {},
   "outputs": [
    {
     "data": {
      "text/plain": [
       "bool"
      ]
     },
     "execution_count": 7,
     "metadata": {},
     "output_type": "execute_result"
    }
   ],
   "source": [
    "type(True)"
   ]
  },
  {
   "cell_type": "code",
   "execution_count": 8,
   "id": "e2ab4634",
   "metadata": {},
   "outputs": [
    {
     "data": {
      "text/plain": [
       "int"
      ]
     },
     "execution_count": 8,
     "metadata": {},
     "output_type": "execute_result"
    }
   ],
   "source": [
    "type(100)"
   ]
  },
  {
   "cell_type": "code",
   "execution_count": 9,
   "id": "713e54e5",
   "metadata": {},
   "outputs": [],
   "source": [
    "mynumber = 100"
   ]
  },
  {
   "cell_type": "code",
   "execution_count": 10,
   "id": "b8d9712e",
   "metadata": {},
   "outputs": [
    {
     "data": {
      "text/plain": [
       "100"
      ]
     },
     "execution_count": 10,
     "metadata": {},
     "output_type": "execute_result"
    }
   ],
   "source": [
    "mynumber"
   ]
  },
  {
   "cell_type": "code",
   "execution_count": 11,
   "id": "88d28413",
   "metadata": {},
   "outputs": [
    {
     "data": {
      "text/plain": [
       "110"
      ]
     },
     "execution_count": 11,
     "metadata": {},
     "output_type": "execute_result"
    }
   ],
   "source": [
    "mynumber + 10"
   ]
  },
  {
   "cell_type": "code",
   "execution_count": 12,
   "id": "84422a8d",
   "metadata": {},
   "outputs": [
    {
     "data": {
      "text/plain": [
       "int"
      ]
     },
     "execution_count": 12,
     "metadata": {},
     "output_type": "execute_result"
    }
   ],
   "source": [
    "type(mynumber)"
   ]
  },
  {
   "cell_type": "markdown",
   "id": "631590f9",
   "metadata": {},
   "source": [
    "## 연산자"
   ]
  },
  {
   "cell_type": "code",
   "execution_count": 14,
   "id": "4faea42c",
   "metadata": {},
   "outputs": [],
   "source": [
    "num1 = 7\n",
    "num2 = 3"
   ]
  },
  {
   "cell_type": "code",
   "execution_count": 15,
   "id": "e7a62c93",
   "metadata": {},
   "outputs": [
    {
     "data": {
      "text/plain": [
       "10"
      ]
     },
     "execution_count": 15,
     "metadata": {},
     "output_type": "execute_result"
    }
   ],
   "source": [
    "num1 + num2"
   ]
  },
  {
   "cell_type": "code",
   "execution_count": 18,
   "id": "530d9af4",
   "metadata": {},
   "outputs": [
    {
     "data": {
      "text/plain": [
       "2.3333333333333335"
      ]
     },
     "execution_count": 18,
     "metadata": {},
     "output_type": "execute_result"
    }
   ],
   "source": [
    "num1 / num2"
   ]
  },
  {
   "cell_type": "code",
   "execution_count": 17,
   "id": "c76a1150",
   "metadata": {},
   "outputs": [
    {
     "data": {
      "text/plain": [
       "0.42857142857142855"
      ]
     },
     "execution_count": 17,
     "metadata": {},
     "output_type": "execute_result"
    }
   ],
   "source": [
    "num2 / num1"
   ]
  },
  {
   "cell_type": "code",
   "execution_count": 19,
   "id": "51539c67",
   "metadata": {},
   "outputs": [
    {
     "data": {
      "text/plain": [
       "2"
      ]
     },
     "execution_count": 19,
     "metadata": {},
     "output_type": "execute_result"
    }
   ],
   "source": [
    "num1 // num2"
   ]
  },
  {
   "cell_type": "code",
   "execution_count": 20,
   "id": "71e4ede0",
   "metadata": {},
   "outputs": [
    {
     "data": {
      "text/plain": [
       "1"
      ]
     },
     "execution_count": 20,
     "metadata": {},
     "output_type": "execute_result"
    }
   ],
   "source": [
    "num1 % num2"
   ]
  },
  {
   "cell_type": "code",
   "execution_count": 21,
   "id": "a5426724",
   "metadata": {},
   "outputs": [
    {
     "data": {
      "text/plain": [
       "343"
      ]
     },
     "execution_count": 21,
     "metadata": {},
     "output_type": "execute_result"
    }
   ],
   "source": [
    "num1 ** num2"
   ]
  },
  {
   "cell_type": "code",
   "execution_count": 24,
   "id": "9f1243dd",
   "metadata": {},
   "outputs": [],
   "source": [
    "str1 = \"Hello\"\n",
    "str2 = \"World\""
   ]
  },
  {
   "cell_type": "code",
   "execution_count": 25,
   "id": "9377973e",
   "metadata": {},
   "outputs": [
    {
     "data": {
      "text/plain": [
       "'HelloWorld'"
      ]
     },
     "execution_count": 25,
     "metadata": {},
     "output_type": "execute_result"
    }
   ],
   "source": [
    "str1 + str2"
   ]
  },
  {
   "cell_type": "code",
   "execution_count": 26,
   "id": "881fa9dc",
   "metadata": {},
   "outputs": [
    {
     "data": {
      "text/plain": [
       "'HelloHelloHelloHelloHelloHelloHello'"
      ]
     },
     "execution_count": 26,
     "metadata": {},
     "output_type": "execute_result"
    }
   ],
   "source": [
    "str1 * num1"
   ]
  },
  {
   "cell_type": "code",
   "execution_count": 27,
   "id": "528e3b8b",
   "metadata": {},
   "outputs": [
    {
     "data": {
      "text/plain": [
       "'HelloHelloHelloHelloHelloHelloHello'"
      ]
     },
     "execution_count": 27,
     "metadata": {},
     "output_type": "execute_result"
    }
   ],
   "source": [
    "num1 * str1"
   ]
  },
  {
   "cell_type": "code",
   "execution_count": 28,
   "id": "2c78b3ad",
   "metadata": {},
   "outputs": [
    {
     "ename": "TypeError",
     "evalue": "can only concatenate str (not \"int\") to str",
     "output_type": "error",
     "traceback": [
      "\u001b[31m---------------------------------------------------------------------------\u001b[39m",
      "\u001b[31mTypeError\u001b[39m                                 Traceback (most recent call last)",
      "\u001b[36mCell\u001b[39m\u001b[36m \u001b[39m\u001b[32mIn[28]\u001b[39m\u001b[32m, line 1\u001b[39m\n\u001b[32m----> \u001b[39m\u001b[32m1\u001b[39m \u001b[43mstr1\u001b[49m\u001b[43m \u001b[49m\u001b[43m+\u001b[49m\u001b[43m \u001b[49m\u001b[43mnum1\u001b[49m\n",
      "\u001b[31mTypeError\u001b[39m: can only concatenate str (not \"int\") to str"
     ]
    }
   ],
   "source": [
    "str1 + num1"
   ]
  },
  {
   "cell_type": "markdown",
   "id": "302a9540",
   "metadata": {},
   "source": [
    "## 비교연산자"
   ]
  },
  {
   "cell_type": "code",
   "execution_count": 29,
   "id": "b2b97a2a",
   "metadata": {},
   "outputs": [],
   "source": [
    "mynumber = 100"
   ]
  },
  {
   "cell_type": "markdown",
   "id": "9bfa2527",
   "metadata": {},
   "source": [
    "같다, 다르다, 크다, 작다\n",
    "==,  !=, >, <, >=, <="
   ]
  },
  {
   "cell_type": "code",
   "execution_count": 31,
   "id": "715f6beb",
   "metadata": {},
   "outputs": [
    {
     "data": {
      "text/plain": [
       "False"
      ]
     },
     "execution_count": 31,
     "metadata": {},
     "output_type": "execute_result"
    }
   ],
   "source": [
    "5 == 3"
   ]
  },
  {
   "cell_type": "code",
   "execution_count": 32,
   "id": "1d81c9ae",
   "metadata": {},
   "outputs": [
    {
     "data": {
      "text/plain": [
       "True"
      ]
     },
     "execution_count": 32,
     "metadata": {},
     "output_type": "execute_result"
    }
   ],
   "source": [
    "5 != 3"
   ]
  },
  {
   "cell_type": "code",
   "execution_count": 33,
   "id": "bd88dae9",
   "metadata": {},
   "outputs": [
    {
     "data": {
      "text/plain": [
       "True"
      ]
     },
     "execution_count": 33,
     "metadata": {},
     "output_type": "execute_result"
    }
   ],
   "source": [
    "5>3"
   ]
  },
  {
   "cell_type": "code",
   "execution_count": 34,
   "id": "12ec45f8",
   "metadata": {},
   "outputs": [
    {
     "data": {
      "text/plain": [
       "False"
      ]
     },
     "execution_count": 34,
     "metadata": {},
     "output_type": "execute_result"
    }
   ],
   "source": [
    "5<3"
   ]
  },
  {
   "cell_type": "code",
   "execution_count": 35,
   "id": "1cb9bf33",
   "metadata": {},
   "outputs": [
    {
     "name": "stdout",
     "output_type": "stream",
     "text": [
      "HelloWorld\n"
     ]
    }
   ],
   "source": [
    "print(str1 + str2)"
   ]
  },
  {
   "cell_type": "code",
   "execution_count": 37,
   "id": "e58dfd89",
   "metadata": {},
   "outputs": [
    {
     "name": "stdout",
     "output_type": "stream",
     "text": [
      "Hello World\n"
     ]
    }
   ],
   "source": [
    "print(str1 + \" \" + str2)"
   ]
  },
  {
   "cell_type": "code",
   "execution_count": 38,
   "id": "92cc0faf",
   "metadata": {},
   "outputs": [
    {
     "name": "stdout",
     "output_type": "stream",
     "text": [
      "Hello World\n"
     ]
    }
   ],
   "source": [
    "print(str1, str2)"
   ]
  },
  {
   "cell_type": "markdown",
   "id": "ae858de1",
   "metadata": {},
   "source": [
    "## 사용자입력"
   ]
  },
  {
   "cell_type": "markdown",
   "id": "c178b061",
   "metadata": {},
   "source": [
    "### input => 실행되고 나서 되돌려주는 함수"
   ]
  },
  {
   "cell_type": "code",
   "execution_count": 46,
   "id": "94698f9f",
   "metadata": {},
   "outputs": [
    {
     "name": "stdout",
     "output_type": "stream",
     "text": [
      "이름은 mingkii 입니다\n"
     ]
    }
   ],
   "source": [
    "name = input(\"이름을 입력하세요\")\n",
    "print(\"이름은\", name, \"입니다\")"
   ]
  },
  {
   "cell_type": "markdown",
   "id": "61d94929",
   "metadata": {},
   "source": [
    "### 형변환(숫자열을 문자열로, 또는 그 반대로 변환시켜주는 함수 사용하기!)\n",
    "#### int(), float(), str()"
   ]
  },
  {
   "cell_type": "code",
   "execution_count": 47,
   "id": "7f4f5b2a",
   "metadata": {},
   "outputs": [
    {
     "data": {
      "text/plain": [
       "7"
      ]
     },
     "execution_count": 47,
     "metadata": {},
     "output_type": "execute_result"
    }
   ],
   "source": [
    "int('7')"
   ]
  },
  {
   "cell_type": "code",
   "execution_count": 48,
   "id": "f5e3aac7",
   "metadata": {},
   "outputs": [
    {
     "data": {
      "text/plain": [
       "3.14"
      ]
     },
     "execution_count": 48,
     "metadata": {},
     "output_type": "execute_result"
    }
   ],
   "source": [
    "float('3.14')"
   ]
  },
  {
   "cell_type": "code",
   "execution_count": 45,
   "id": "9e950d37",
   "metadata": {},
   "outputs": [],
   "source": [
    "num1 = 7\n",
    "num2 = 3"
   ]
  },
  {
   "cell_type": "code",
   "execution_count": 44,
   "id": "6848dc33",
   "metadata": {},
   "outputs": [],
   "source": [
    "# 미션\n",
    "# 사용자로부터 숫자 입력을 받아서 +, -, *, / 연산 결과를 출력해주세요"
   ]
  },
  {
   "cell_type": "code",
   "execution_count": 49,
   "id": "c0059fe2",
   "metadata": {},
   "outputs": [
    {
     "name": "stdout",
     "output_type": "stream",
     "text": [
      "24\n",
      "-4\n",
      "140\n",
      "0.7142857142857143\n"
     ]
    }
   ],
   "source": [
    "num1 = int(input(\"첫 번째 숫자를 입력하세요:\"))\n",
    "num2 = int(input(\"두 번째 숫자를 입력하세요:\"))\n",
    "\n",
    "print(num1+num2)\n",
    "print(num1-num2)\n",
    "print(num1*num2)\n",
    "print(num1/num2)"
   ]
  },
  {
   "cell_type": "code",
   "execution_count": null,
   "id": "58528998",
   "metadata": {},
   "outputs": [],
   "source": [
    "mynumber\n",
    "my_number\n",
    "myNumber\n",
    "__mynumber"
   ]
  },
  {
   "cell_type": "code",
   "execution_count": 2,
   "id": "cd4fa885",
   "metadata": {},
   "outputs": [
    {
     "name": "stdout",
     "output_type": "stream",
     "text": [
      "         *\n",
      "        ***\n",
      "       *****\n",
      "      *******\n",
      "     *********\n",
      "    ***********\n",
      "   *************\n",
      "  ***************\n",
      " *****************\n",
      "*******************\n"
     ]
    }
   ],
   "source": [
    "rows = 10  \n",
    "\n",
    "for i in range(1, rows + 1):\n",
    "    spaces = \" \" * (rows - i)      # 왼쪽 공백\n",
    "    stars = \"*\" * (2 * i - 1)      # 별 갯수\n",
    "    print(spaces + stars)"
   ]
  }
 ],
 "metadata": {
  "kernelspec": {
   "display_name": "Python 3",
   "language": "python",
   "name": "python3"
  },
  "language_info": {
   "codemirror_mode": {
    "name": "ipython",
    "version": 3
   },
   "file_extension": ".py",
   "mimetype": "text/x-python",
   "name": "python",
   "nbconvert_exporter": "python",
   "pygments_lexer": "ipython3",
   "version": "3.11.8"
  }
 },
 "nbformat": 4,
 "nbformat_minor": 5
}
